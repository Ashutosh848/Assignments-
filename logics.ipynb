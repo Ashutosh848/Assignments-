{
 "cells": [
  {
   "cell_type": "code",
   "execution_count": 1,
   "id": "a98fde5a-4e69-4308-84db-9b4a0a9d354b",
   "metadata": {},
   "outputs": [
    {
     "name": "stdin",
     "output_type": "stream",
     "text": [
      "Enter the Value 10\n"
     ]
    },
    {
     "name": "stdout",
     "output_type": "stream",
     "text": [
      "1,2,3,4,5,6,7,8,9,10,"
     ]
    }
   ],
   "source": [
    "#wap to print the series of 1,2,3,...n\n",
    "n = int(input(\"Enter the Value\"))\n",
    "\n",
    "for i in range(1,n+1):\n",
    "    print(i,end = ',')"
   ]
  },
  {
   "cell_type": "code",
   "execution_count": 2,
   "id": "b91b36a7-67dd-4ff9-aad4-c93a0650b935",
   "metadata": {},
   "outputs": [
    {
     "name": "stdin",
     "output_type": "stream",
     "text": [
      "Enter the value 10\n"
     ]
    },
    {
     "name": "stdout",
     "output_type": "stream",
     "text": [
      "10,9,8,7,6,5,4,3,2,1,"
     ]
    }
   ],
   "source": [
    "#2. Write a program to print the series N,..3,2,1.\n",
    "n = int(input(\"Enter the value\"))\n",
    "\n",
    "for i in range(n,1-1,-1):\n",
    "    print(i,end = ',')"
   ]
  },
  {
   "cell_type": "code",
   "execution_count": 3,
   "id": "9ca51610-10f4-46dd-9087-fb2f40aafd9d",
   "metadata": {},
   "outputs": [
    {
     "name": "stdin",
     "output_type": "stream",
     "text": [
      "Enter a value for loop 10\n"
     ]
    },
    {
     "name": "stdout",
     "output_type": "stream",
     "text": [
      "1,4,9,16,25,36,49,64,81,100,"
     ]
    }
   ],
   "source": [
    "#3. Write a program to print the first N terms of the series 1,4,9,16.....\n",
    "n = int(input(\"Enter a value for loop\"))\n",
    "\n",
    "for i in range(1,n+1):\n",
    "    i=i**2\n",
    "    print(i,end = ',')"
   ]
  },
  {
   "cell_type": "code",
   "execution_count": 4,
   "id": "3fb10d4b-adfc-4ed9-9d12-fd098ef35b68",
   "metadata": {},
   "outputs": [
    {
     "name": "stdin",
     "output_type": "stream",
     "text": [
      "Enter the value for loop 10\n"
     ]
    },
    {
     "name": "stdout",
     "output_type": "stream",
     "text": [
      "1,8,27,64,125,216,343,512,729,1000,"
     ]
    }
   ],
   "source": [
    "#4. Write a program to print the first N terms of the series 1,8,27,64.....\n",
    "n = int(input(\"Enter the value for loop\"))\n",
    "\n",
    "for i in range(1,n+1):\n",
    "    i = i**3\n",
    "    print(i,end=',')"
   ]
  },
  {
   "cell_type": "code",
   "execution_count": 5,
   "id": "de3cf5aa-a6b4-44b7-b3f0-5400ff47dd9e",
   "metadata": {},
   "outputs": [
    {
     "name": "stdin",
     "output_type": "stream",
     "text": [
      "Enter a value: 10\n"
     ]
    },
    {
     "name": "stdout",
     "output_type": "stream",
     "text": [
      "1,3,5,7,9,"
     ]
    }
   ],
   "source": [
    "#5. Write a program to print the first N terms of the series 1,3,5,.....\n",
    "n = int(input(\"Enter a value:\"))\n",
    "\n",
    "for i in range(1,n+1,2):\n",
    "    print(i,end = ',')"
   ]
  },
  {
   "cell_type": "code",
   "execution_count": 6,
   "id": "33024c55-7c02-475e-a688-b147e680dc36",
   "metadata": {},
   "outputs": [
    {
     "name": "stdin",
     "output_type": "stream",
     "text": [
      "Enter the value 10\n"
     ]
    },
    {
     "name": "stdout",
     "output_type": "stream",
     "text": [
      "0,2,4,6,8,10,"
     ]
    }
   ],
   "source": [
    "#6. Write a program to print the first N terms of the series 0,2,4,.....\n",
    "n=int(input(\"Enter the value\"))\n",
    "\n",
    "for i in range(0,n+1,2):\n",
    "    print(i,end=',')\n",
    "    "
   ]
  },
  {
   "cell_type": "code",
   "execution_count": 7,
   "id": "dae1a1f9-2506-4ac1-a1ca-c537d844d9e9",
   "metadata": {},
   "outputs": [
    {
     "name": "stdin",
     "output_type": "stream",
     "text": [
      "Enter the Value 10\n"
     ]
    },
    {
     "name": "stdout",
     "output_type": "stream",
     "text": [
      "-1,1,-1,1,-1,1,-1,1,-1,1,"
     ]
    }
   ],
   "source": [
    "#7. Write a program to print the first N terms of the series 1,-1,1,-1,.....\n",
    "n =int(input(\"Enter the Value\"))\n",
    "\n",
    "for i in range(1,n+1):\n",
    "    if(i%2==0):\n",
    "        print(1,end=',')\n",
    "    else:\n",
    "        print(-1,end = ',')\n",
    "    \n",
    "    "
   ]
  },
  {
   "cell_type": "code",
   "execution_count": 8,
   "id": "d4d8daab-b5bc-4f5c-8dd6-e76cb5ba6ea4",
   "metadata": {},
   "outputs": [
    {
     "name": "stdin",
     "output_type": "stream",
     "text": [
      "Enter the Value 10\n"
     ]
    },
    {
     "name": "stdout",
     "output_type": "stream",
     "text": [
      "1,0,1,0,1,0,1,0,1,0,"
     ]
    }
   ],
   "source": [
    "#8. Write a program to print the first N terms of the series 1,0,1,0.....\n",
    "n=int(input(\"Enter the Value\"))\n",
    "\n",
    "for i in range(1,n+1):\n",
    "    if(i%2==0):\n",
    "        print(0,end = ',')\n",
    "    else:\n",
    "        print(1,end = ',')"
   ]
  },
  {
   "cell_type": "code",
   "execution_count": 9,
   "id": "faad6347-1910-4471-a0fb-fc4c9cf48e37",
   "metadata": {},
   "outputs": [
    {
     "name": "stdin",
     "output_type": "stream",
     "text": [
      "Enter a value--> 10\n"
     ]
    },
    {
     "name": "stdout",
     "output_type": "stream",
     "text": [
      "99\n",
      "999\n",
      "9999\n",
      "99999\n",
      "999999\n",
      "9999999\n",
      "99999999\n",
      "999999999\n",
      "9999999999\n",
      "99999999999\n"
     ]
    }
   ],
   "source": [
    "#10.Write a program to print the first N terms of the series 9,99,999,.....\n",
    "n = int(input(\"Enter a value-->\"))\n",
    "\n",
    "term = 9\n",
    "for i in range(n):\n",
    "    term = term*10+9\n",
    "    print(term)"
   ]
  },
  {
   "cell_type": "code",
   "execution_count": 10,
   "id": "dd480f4b-3500-435a-9ead-fd2f79635e18",
   "metadata": {},
   "outputs": [
    {
     "name": "stdin",
     "output_type": "stream",
     "text": [
      "Enter a value: 10\n"
     ]
    },
    {
     "name": "stdout",
     "output_type": "stream",
     "text": [
      "0,1,2,3,0,1,2,3,0,1,"
     ]
    }
   ],
   "source": [
    "#11.Write a program to print the first N terms of the series 0,1,2,3,0,1,2,3,0,1,.....\n",
    "n = int(input(\"Enter a value:\"))\n",
    "\n",
    "for i in range(n):\n",
    "    i = i%4\n",
    "    print(i,end = ',')"
   ]
  },
  {
   "cell_type": "code",
   "execution_count": 11,
   "id": "1b25da05-d232-403d-8b97-10fc46af6a04",
   "metadata": {},
   "outputs": [
    {
     "name": "stdin",
     "output_type": "stream",
     "text": [
      "Enter a value: 101\n"
     ]
    },
    {
     "name": "stdout",
     "output_type": "stream",
     "text": [
      "1,2,3,4,0,1,2,3,4,0,1,2,3,4,0,1,2,3,4,0,1,2,3,4,0,1,2,3,4,0,1,2,3,4,0,1,2,3,4,0,1,2,3,4,0,1,2,3,4,0,1,2,3,4,0,1,2,3,4,0,1,2,3,4,0,1,2,3,4,0,1,2,3,4,0,1,2,3,4,0,1,2,3,4,0,1,2,3,4,0,1,2,3,4,0,1,2,3,4,0,1,"
     ]
    }
   ],
   "source": [
    "#12.Write a program to print the first N terms of the series 1,2,3,4,1,2,3,4,1,2,.....\n",
    "n = int(input(\"Enter a value:\"))\n",
    "\n",
    "for i in range(1,n+1):\n",
    "    i = i%5\n",
    "    print(i,end = ',')"
   ]
  },
  {
   "cell_type": "code",
   "execution_count": 12,
   "id": "eb152819-cea0-4e07-a879-1b17a33cc171",
   "metadata": {},
   "outputs": [
    {
     "name": "stdin",
     "output_type": "stream",
     "text": [
      "Enter a value: 20\n"
     ]
    },
    {
     "name": "stdout",
     "output_type": "stream",
     "text": [
      "1,2,3,5,8,13,21,34,55,89,144,233,377,610,987,1597,2584,4181,6765,10946,"
     ]
    }
   ],
   "source": [
    "#13.Write a program to print first N terms of the Fibonacci series 0, 1, 1, 2, 3, 5,...\n",
    "n = int(input(\"Enter a value:\"))\n",
    "num1 = 0\n",
    "num2 = 1\n",
    "count = 1\n",
    "nxt_num = num2\n",
    "\n",
    "while(count<=n):\n",
    "    print(nxt_num,end=',')\n",
    "    count+=1\n",
    "    num1,num2=num2,nxt_num\n",
    "    nxt_num=num1 + num2"
   ]
  },
  {
   "cell_type": "code",
   "execution_count": 13,
   "id": "77ed7e7f-c473-45d2-94b8-7b8725923580",
   "metadata": {},
   "outputs": [
    {
     "name": "stdin",
     "output_type": "stream",
     "text": [
      "enter a value: 10\n"
     ]
    },
    {
     "name": "stdout",
     "output_type": "stream",
     "text": [
      "1,2,4,7,13,24,44,81,149,274,"
     ]
    }
   ],
   "source": [
    "#14.Write a program to print first N terms of the Tribonacci series 0,0,1,1,2,4,7,13…\n",
    "n = int(input(\"enter a value:\"))\n",
    "num1 = 0\n",
    "num2 = 0\n",
    "num3 = 1\n",
    "count = 1\n",
    "nxt_num = num3\n",
    "while(count<=n):\n",
    "    print(nxt_num,end = ',')\n",
    "    count+=1\n",
    "    num1,num2,num3 = num2,num3,nxt_num\n",
    "    nxt_num =num1+ num2 + num3"
   ]
  },
  {
   "cell_type": "code",
   "execution_count": 14,
   "id": "7d9cc3ad-43a6-47e7-9ae5-16e6e77214cf",
   "metadata": {},
   "outputs": [
    {
     "name": "stdin",
     "output_type": "stream",
     "text": [
      "Enter a value: 10\n"
     ]
    },
    {
     "name": "stdout",
     "output_type": "stream",
     "text": [
      "1\n"
     ]
    }
   ],
   "source": [
    "#15.Write a program to calculate sum of digits of a number.\n",
    "n = int(input(\"Enter a value:\"))\n",
    "sum = 0\n",
    "while(n>0):\n",
    "    digit = n%10\n",
    "    sum = sum + digit\n",
    "    n = n//10\n",
    "print(sum)"
   ]
  },
  {
   "cell_type": "code",
   "execution_count": null,
   "id": "b6654eed-7e99-4f8f-9a36-1373febe3452",
   "metadata": {},
   "outputs": [],
   "source": [
    "#16.Write a program to count digits of a number.\n",
    "n= int(input(\"Enter a value\"))\n",
    "count = 0\n",
    "while(n>0):\n",
    "    count = count+1\n",
    "    n=n//10\n",
    "print(count)"
   ]
  },
  {
   "cell_type": "code",
   "execution_count": 10,
   "id": "30bb9777-4cda-49ec-9cbe-71d4a0f4c449",
   "metadata": {
    "jp-MarkdownHeadingCollapsed": true
   },
   "outputs": [
    {
     "name": "stdin",
     "output_type": "stream",
     "text": [
      "Enter a value: 1234\n"
     ]
    },
    {
     "name": "stdout",
     "output_type": "stream",
     "text": [
      "4321\n"
     ]
    }
   ],
   "source": [
    "#17.Write a program to reverse a number\n",
    "n = int(input(\"Enter a value:\"))\n",
    "rev = 0\n",
    "while(n!=0):\n",
    "    digit = n%10\n",
    "    rev = rev*10+digit\n",
    "    n=n//10\n",
    "print(rev)\n"
   ]
  },
  {
   "cell_type": "code",
   "execution_count": 30,
   "id": "e92b9b1f-4647-4a51-a579-0e0a9ff1f3ed",
   "metadata": {},
   "outputs": [
    {
     "name": "stdin",
     "output_type": "stream",
     "text": [
      "Enter a num: 1111\n"
     ]
    },
    {
     "name": "stdout",
     "output_type": "stream",
     "text": [
      "Palindrome\n"
     ]
    }
   ],
   "source": [
    "#Write a program to check whether a given number is palindrome or not.\n",
    "n = int(input(\"Enter a num:\"))\n",
    "temp =n\n",
    "rev = 0\n",
    "while(n!=0):\n",
    "    digit = n%10\n",
    "    rev = rev*10 + digit\n",
    "    n = n//10\n",
    "if(rev==temp):\n",
    "    print(\"Palindrome\")\n",
    "else:\n",
    "    print(\"Number is not a palindrome\")"
   ]
  },
  {
   "cell_type": "code",
   "execution_count": 26,
   "id": "3c6e7ef4-29a6-4044-9c3b-a7ea68e66404",
   "metadata": {},
   "outputs": [
    {
     "name": "stdin",
     "output_type": "stream",
     "text": [
      "Enter a value: 4\n"
     ]
    },
    {
     "name": "stdout",
     "output_type": "stream",
     "text": [
      "24\n"
     ]
    }
   ],
   "source": [
    "#19.Write a program to calculate factorial of a number.\n",
    "n = int(input(\"Enter a value:\"))\n",
    "fact = 1\n",
    "for i in range(1,n+1):\n",
    "    fact = fact*i\n",
    "print(fact)"
   ]
  },
  {
   "cell_type": "code",
   "execution_count": 36,
   "id": "f62e4aee-2e66-4b3c-90d0-d100c72b620c",
   "metadata": {},
   "outputs": [
    {
     "name": "stdin",
     "output_type": "stream",
     "text": [
      "Enter a value: 3\n"
     ]
    },
    {
     "name": "stdout",
     "output_type": "stream",
     "text": [
      "9\n"
     ]
    }
   ],
   "source": [
    "#20.Write a program to calculate power P of a number N.\n",
    "n = int(input(\"Enter a value:\"))\n",
    "for i in range(1,n+1):\n",
    "    i = i*n\n",
    "print(i)"
   ]
  },
  {
   "cell_type": "code",
   "execution_count": null,
   "id": "23fa02f4-66e1-4a87-8ea5-63d188a0646e",
   "metadata": {},
   "outputs": [],
   "source": []
  }
 ],
 "metadata": {
  "kernelspec": {
   "display_name": "Python 3 (ipykernel)",
   "language": "python",
   "name": "python3"
  },
  "language_info": {
   "codemirror_mode": {
    "name": "ipython",
    "version": 3
   },
   "file_extension": ".py",
   "mimetype": "text/x-python",
   "name": "python",
   "nbconvert_exporter": "python",
   "pygments_lexer": "ipython3",
   "version": "3.11.7"
  }
 },
 "nbformat": 4,
 "nbformat_minor": 5
}
